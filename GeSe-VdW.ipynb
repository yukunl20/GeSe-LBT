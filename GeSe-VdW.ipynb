{
 "cells": [
  {
   "cell_type": "code",
   "execution_count": null,
   "id": "1ef90b64-a42c-45ea-b80b-2b5707841809",
   "metadata": {
    "tags": []
   },
   "outputs": [],
   "source": [
    "%matplotlib inline\n",
    "\n",
    "import abtem\n",
    "import ase\n",
    "import matplotlib.pyplot as plt\n",
    "import numpy as np\n",
    "from ase.visualize import view\n",
    "from ase.build import surface"
   ]
  },
  {
   "cell_type": "markdown",
   "id": "552e3f21-0fc0-4af6-a31b-f6f4c13d14a8",
   "metadata": {},
   "source": [
    "### Read cif file"
   ]
  },
  {
   "cell_type": "code",
   "execution_count": null,
   "id": "04c8e6bf-1195-4870-a073-d05500f99a5c",
   "metadata": {
    "tags": []
   },
   "outputs": [],
   "source": [
    "GeSe = ase.io.read(\"GeSe.cif\")\n",
    "abtem.show_atoms(GeSe);"
   ]
  },
  {
   "cell_type": "markdown",
   "id": "9eb9ebb2-0665-4789-8652-6ab3ddc0e164",
   "metadata": {},
   "source": [
    "### Create a 110 surface"
   ]
  },
  {
   "cell_type": "code",
   "execution_count": null,
   "id": "3332bf40-dc4d-45f3-b46c-700b73ce84b6",
   "metadata": {
    "tags": []
   },
   "outputs": [],
   "source": [
    "GeSe_110 = surface(GeSe, indices=(1, 1, 0), layers=6, periodic=True)\n",
    "\n",
    "abtem.show_atoms(GeSe_110, plane=\"xy\");"
   ]
  },
  {
   "cell_type": "markdown",
   "id": "d496ebc5-9ba6-4a6f-a598-22dfdba88ddc",
   "metadata": {},
   "source": [
    "### Expand the cell"
   ]
  },
  {
   "cell_type": "code",
   "execution_count": null,
   "id": "5c218291-d8db-464c-8b57-76e136df4e32",
   "metadata": {
    "tags": []
   },
   "outputs": [],
   "source": [
    "repeated_GeSe = GeSe_110.copy()\n",
    "\n",
    "repeated_GeSe *= (6, 4, 1)\n",
    "\n",
    "abtem.show_atoms(repeated_GeSe, legend=True);"
   ]
  },
  {
   "cell_type": "code",
   "execution_count": null,
   "id": "70e2d834-8971-49bb-9963-5b4109582278",
   "metadata": {
    "tags": []
   },
   "outputs": [],
   "source": [
    "abtem.show_atoms(repeated_GeSe, legend=True, plane='yz');"
   ]
  },
  {
   "cell_type": "code",
   "execution_count": null,
   "id": "4d1a932b-9b8f-45e2-b5b6-684cad226676",
   "metadata": {
    "tags": []
   },
   "outputs": [],
   "source": [
    "from ase.io import write\n",
    "\n",
    "write(\"GeSe_110.cif\", repeated_GeSe)"
   ]
  },
  {
   "cell_type": "markdown",
   "id": "56ab3aad-1c10-421f-bf56-9211dba0f701",
   "metadata": {},
   "source": [
    "### Build Atomic Potential"
   ]
  },
  {
   "cell_type": "code",
   "execution_count": null,
   "id": "ca561396-d6ec-4ac0-901a-0f14ee7d9d20",
   "metadata": {
    "tags": []
   },
   "outputs": [],
   "source": [
    "%matplotlib ipympl\n",
    "\n",
    "import abtem\n",
    "import ase\n",
    "import matplotlib.pyplot as plt\n",
    "import numpy as np\n",
    "\n",
    "# np.set_printoptions(edgeitems=2)\n",
    "\n",
    "abtem.config.set({\"visualize.cmap\": \"plasma\"})\n",
    "abtem.config.set({\"visualize.continuous_update\": True})\n",
    "abtem.config.set({\"visualize.autoscale\": True})\n",
    "# abtem.config.set({\"visualize.reciprocal_space_units\": \"mrad\"})\n",
    "abtem.config.set({\"device\": \"cpu\"})\n",
    "abtem.config.set({\"fft\": \"fftw\"});"
   ]
  },
  {
   "cell_type": "code",
   "execution_count": null,
   "id": "539bba1a-06e7-4d3e-8ef2-9bbf00703710",
   "metadata": {
    "scrolled": true,
    "tags": []
   },
   "outputs": [],
   "source": [
    "GeSe_110 = ase.io.read(\"GeSe_110.cif\")\n",
    "\n",
    "fig, (ax1, ax2) = plt.subplots(1, 2)\n",
    "abtem.show_atoms(GeSe_110, ax=ax1, plane=\"xy\", title=\"Beam view\", legend=True)\n",
    "abtem.show_atoms(GeSe_110, ax=ax2, plane=\"yz\", title=\"Side view\");"
   ]
  },
  {
   "cell_type": "markdown",
   "id": "d66caef3-8c22-414f-8d70-3d2b3e16f917",
   "metadata": {
    "tags": []
   },
   "source": [
    "### delete Ge atoms to create van der waal gap"
   ]
  },
  {
   "cell_type": "code",
   "execution_count": null,
   "id": "abb0e647-aaef-4634-8502-b5aeaf3346a0",
   "metadata": {
    "tags": []
   },
   "outputs": [],
   "source": [
    "GeSe_110 = ase.io.read(\"GeSe_110.cif\")\n",
    "\n",
    "fig, (ax1, ax2) = plt.subplots(1, 2)\n",
    "abtem.show_atoms(GeSe_110, ax=ax1, plane=\"xy\", title=\"Beam view\", legend=True)\n",
    "abtem.show_atoms(GeSe_110, ax=ax2, plane=\"yz\", title=\"Side view\");"
   ]
  },
  {
   "cell_type": "code",
   "execution_count": null,
   "id": "dbecf3e0-267b-433f-8610-473df21eadfa",
   "metadata": {
    "tags": []
   },
   "outputs": [],
   "source": [
    "GeSe_110.positions[:,1]<20"
   ]
  },
  {
   "cell_type": "code",
   "execution_count": null,
   "id": "b651985c-c895-4e4d-959a-44eecee34ce7",
   "metadata": {
    "tags": []
   },
   "outputs": [],
   "source": [
    "GeSe_vac = GeSe_110.copy()\n",
    "\n",
    "mask1 = GeSe_vac.symbols == \"Ge\"\n",
    "mask2 = GeSe_vac.positions[:,1]>20\n",
    "mask3 = GeSe_vac.positions[:,1]<22\n",
    "mask4 = GeSe_vac.positions[:,0]>10\n",
    "mask5 = GeSe_vac.positions[:,0]<30\n",
    "\n",
    "mask = mask1 & mask2 & mask3 & mask4 & mask5\n",
    "del GeSe_vac[mask]"
   ]
  },
  {
   "cell_type": "code",
   "execution_count": null,
   "id": "202491f1-da28-447b-b10b-479ad6014c1e",
   "metadata": {
    "tags": []
   },
   "outputs": [],
   "source": [
    "fig, (ax1, ax2) = plt.subplots(1, 2)\n",
    "abtem.show_atoms(GeSe_vac, ax=ax1, plane=\"xy\", title=\"Beam view\", legend=True)\n",
    "abtem.show_atoms(GeSe_vac, ax=ax2, plane=\"yz\", title=\"Side view\");"
   ]
  },
  {
   "cell_type": "markdown",
   "id": "5bf57f97-b032-4fd8-8542-c62661cc9392",
   "metadata": {},
   "source": [
    "### Set the sampling rate"
   ]
  },
  {
   "cell_type": "code",
   "execution_count": null,
   "id": "e99de8b1-ff12-4f91-9cb5-8990aa84b81d",
   "metadata": {
    "tags": []
   },
   "outputs": [],
   "source": [
    "potential = abtem.Potential(GeSe_vac, sampling=0.05, slice_thickness=2)"
   ]
  },
  {
   "cell_type": "code",
   "execution_count": null,
   "id": "3fbb0b61-00fb-4371-a1a3-081bdef2716f",
   "metadata": {
    "tags": []
   },
   "outputs": [],
   "source": [
    "len(potential)"
   ]
  },
  {
   "cell_type": "markdown",
   "id": "73fcdef5-099f-4096-8085-ec5685975cc2",
   "metadata": {},
   "source": [
    "### Compute the potential"
   ]
  },
  {
   "cell_type": "code",
   "execution_count": null,
   "id": "56809444-4823-4c12-b891-f18398ccf6d5",
   "metadata": {
    "tags": []
   },
   "outputs": [],
   "source": [
    "potential_array = potential.build()"
   ]
  },
  {
   "cell_type": "code",
   "execution_count": null,
   "id": "a276afe3-ccb5-4744-b795-a3764986f0bd",
   "metadata": {
    "tags": []
   },
   "outputs": [],
   "source": [
    "potential_array.array"
   ]
  },
  {
   "cell_type": "code",
   "execution_count": null,
   "id": "97050919-cf6a-4760-8a9e-56a7958a54ba",
   "metadata": {
    "tags": []
   },
   "outputs": [],
   "source": [
    "potential_array.compute()"
   ]
  },
  {
   "cell_type": "code",
   "execution_count": null,
   "id": "31ae563e-954d-4721-b9cf-fb22d3250666",
   "metadata": {
    "tags": []
   },
   "outputs": [],
   "source": [
    "potential_array.show();"
   ]
  },
  {
   "cell_type": "code",
   "execution_count": null,
   "id": "18d0a33a-4ffe-48fe-bcbe-22fa00b56392",
   "metadata": {
    "tags": []
   },
   "outputs": [],
   "source": [
    "potential_array.to_images().show(interact=True, cbar=True);"
   ]
  },
  {
   "cell_type": "code",
   "execution_count": null,
   "id": "d7144969-e618-4d38-842f-7e1dd7557602",
   "metadata": {
    "tags": []
   },
   "outputs": [],
   "source": [
    "probe = abtem.Probe(energy=200e3, defocus=2, semiangle_cutoff=27)"
   ]
  },
  {
   "cell_type": "code",
   "execution_count": null,
   "id": "e3c19d16-637d-4e95-8fae-19ffad555663",
   "metadata": {
    "tags": []
   },
   "outputs": [],
   "source": [
    "probe.grid.match(potential)"
   ]
  },
  {
   "cell_type": "code",
   "execution_count": null,
   "id": "6bd93ac2-2fbe-4a95-b89a-20cd6222d96c",
   "metadata": {
    "tags": []
   },
   "outputs": [],
   "source": [
    "probe_waves = probe.build()\n",
    "\n",
    "probe_waves.array"
   ]
  },
  {
   "cell_type": "code",
   "execution_count": null,
   "id": "5465bb4d-8c6b-4853-8113-33bd81c44320",
   "metadata": {
    "tags": []
   },
   "outputs": [],
   "source": [
    "probe_waves.compute()"
   ]
  },
  {
   "cell_type": "code",
   "execution_count": null,
   "id": "af711a27-cd31-4557-a2c8-bdc189629e48",
   "metadata": {
    "tags": []
   },
   "outputs": [],
   "source": [
    "probe_waves.intensity().show(title=\"Probe intensity\")"
   ]
  },
  {
   "cell_type": "code",
   "execution_count": null,
   "id": "a8b1badd-1fa7-4881-9936-921f3181194d",
   "metadata": {
    "tags": []
   },
   "outputs": [],
   "source": [
    "probe_waves.diffraction_patterns().show(\n",
    "    title=\"Reciprocal-space probe intensity\", units=\"mrad\"\n",
    ");"
   ]
  },
  {
   "cell_type": "markdown",
   "id": "7290464e-b2c8-4e1c-ae8b-4cccdb9d8ac6",
   "metadata": {},
   "source": [
    "### Set the scanning grid"
   ]
  },
  {
   "cell_type": "code",
   "execution_count": null,
   "id": "a9267ab8-a681-470b-9937-a61c1813b0a0",
   "metadata": {
    "tags": []
   },
   "outputs": [],
   "source": [
    "scan = abtem.GridScan(\n",
    "    start=(1/20, 1/20),\n",
    "    end=(19/20,19/20),\n",
    "    sampling=probe.ctf.nyquist_sampling,\n",
    "    fractional=True,\n",
    "    potential=potential,\n",
    ")"
   ]
  },
  {
   "cell_type": "code",
   "execution_count": null,
   "id": "49f8d766-504b-4b09-ae0e-ba5d162a4af7",
   "metadata": {
    "tags": []
   },
   "outputs": [],
   "source": [
    "fig, ax = abtem.show_atoms(GeSe_vac)\n",
    "scan.add_to_plot(ax, color=\"k\");"
   ]
  },
  {
   "cell_type": "markdown",
   "id": "c02a913f-26e3-45b2-9b8f-5342c5d39aa7",
   "metadata": {},
   "source": [
    "### Set the detector"
   ]
  },
  {
   "cell_type": "code",
   "execution_count": null,
   "id": "fd707b62-25cc-4eb0-ad98-c2201f95ebc1",
   "metadata": {
    "tags": []
   },
   "outputs": [],
   "source": [
    "bright = abtem.AnnularDetector(inner=0, outer=20)\n",
    "maadf = abtem.AnnularDetector(inner=50, outer=120)\n",
    "haadf = abtem.AnnularDetector(inner=100, outer=180)\n",
    "\n",
    "detectors = [bright, maadf, haadf]"
   ]
  },
  {
   "cell_type": "code",
   "execution_count": null,
   "id": "a072f394-2d56-4eb9-a21c-11d14dd0fade",
   "metadata": {
    "tags": []
   },
   "outputs": [],
   "source": [
    "print(f\"alpha_max = {min(probe.cutoff_angles):.1f} mrad\")"
   ]
  },
  {
   "cell_type": "code",
   "execution_count": null,
   "id": "b2fb3e5c-917f-40a4-a1c7-9d762e56a1d9",
   "metadata": {
    "tags": []
   },
   "outputs": [],
   "source": [
    "bright_region = bright.get_detector_region(probe)\n",
    "maadf_region = maadf.get_detector_region(probe)\n",
    "haadf_region = haadf.get_detector_region(probe)"
   ]
  },
  {
   "cell_type": "code",
   "execution_count": null,
   "id": "8ac25202-72a3-4915-9832-2d2ff6d1e00a",
   "metadata": {
    "tags": []
   },
   "outputs": [],
   "source": [
    "stacked_regions = abtem.stack(\n",
    "    (bright_region, maadf_region, haadf_region), (\"bright\", \"MAADF\", \"HAADF\")\n",
    ")\n",
    "\n",
    "visualization = stacked_regions.show(explode=True, units=\"mrad\", figsize=(12, 4))"
   ]
  },
  {
   "cell_type": "code",
   "execution_count": null,
   "id": "fb99210d-3785-4f1f-8e7f-1e3013a9f983",
   "metadata": {
    "tags": []
   },
   "outputs": [],
   "source": [
    "scanned_measurements = probe.scan(\n",
    "    scan=scan,\n",
    "    detectors=detectors,\n",
    "    potential=potential,\n",
    ")\n",
    "\n",
    "scanned_measurements.compute()"
   ]
  },
  {
   "cell_type": "code",
   "execution_count": null,
   "id": "86839238-9874-498c-bd21-05a74339eefe",
   "metadata": {
    "tags": []
   },
   "outputs": [],
   "source": [
    "stacked_measurements = abtem.stack(scanned_measurements, (\"BF\", \"MAADF\", \"HAADF\"))\n",
    "\n",
    "stacked_measurements.show(explode=True);"
   ]
  },
  {
   "cell_type": "markdown",
   "id": "6f2415c9-ab78-4337-88c0-06ffde2bc6a1",
   "metadata": {},
   "source": [
    "### Interpolate the result"
   ]
  },
  {
   "cell_type": "code",
   "execution_count": null,
   "id": "f56567be-5a86-4d1a-8073-6592d0e8044f",
   "metadata": {
    "tags": []
   },
   "outputs": [],
   "source": [
    "interpolated_measurements = stacked_measurements.interpolate(0.1)\n",
    "\n",
    "interpolated_measurements.show(explode=True);"
   ]
  },
  {
   "cell_type": "markdown",
   "id": "42fef431-d6aa-4c86-98f0-25f17a4add59",
   "metadata": {},
   "source": [
    "### Blurring"
   ]
  },
  {
   "cell_type": "code",
   "execution_count": null,
   "id": "e6690af0-e47a-4943-b2f6-8c8a9131e723",
   "metadata": {
    "tags": []
   },
   "outputs": [],
   "source": [
    "blurred_measurements = interpolated_measurements.gaussian_filter(0.35)\n",
    "\n",
    "blurred_measurements.show(explode=True);"
   ]
  },
  {
   "cell_type": "code",
   "execution_count": null,
   "id": "8cc3cd6c-71c7-4077-84c1-3bfc6f0f2819",
   "metadata": {
    "tags": []
   },
   "outputs": [],
   "source": [
    "#tiled_measurements = blurred_measurements.tile((4, 3))"
   ]
  },
  {
   "cell_type": "code",
   "execution_count": null,
   "id": "837372b4-99f2-4563-a6d1-c25cf4254683",
   "metadata": {
    "tags": []
   },
   "outputs": [],
   "source": [
    "noisy_measurements = blurred_measurements.poisson_noise(dose_per_area=7e6, seed=100)\n",
    "\n",
    "noisy_measurements.show(explode=True, figsize=(12, 4),cmap='gray');"
   ]
  },
  {
   "cell_type": "code",
   "execution_count": null,
   "id": "3646e659-0b4d-4d93-bf2b-00984faf849c",
   "metadata": {
    "tags": []
   },
   "outputs": [],
   "source": [
    "noisy_measurements[2].show(figsize=(4,6),cmap='gray')\n",
    "\n"
   ]
  },
  {
   "cell_type": "code",
   "execution_count": null,
   "id": "2cc9c5da-6282-4c6b-9214-b9bf5f95eb2b",
   "metadata": {
    "tags": []
   },
   "outputs": [],
   "source": [
    "noisy_measurements[2].sampling"
   ]
  },
  {
   "cell_type": "code",
   "execution_count": null,
   "id": "5bef568c-db95-4fc7-8dd8-6f317b8a2f70",
   "metadata": {
    "tags": []
   },
   "outputs": [],
   "source": [
    "np.save('GeSe_HAADF_highI_3.npy', noisy_measurements[2].array)    # .npy extension is added if not given\n",
    "np.save('GeSe_HAADF_scale_A_highI_3.npy', noisy_measurements[2].sampling)    # .npy extension is added if not given"
   ]
  },
  {
   "cell_type": "code",
   "execution_count": null,
   "id": "c2337742-0e13-41c8-827e-dfa9a571255a",
   "metadata": {
    "tags": []
   },
   "outputs": [],
   "source": [
    "plt.imshow(noisy_measurements[2].array,cmap='gray')\n",
    "plt.show()"
   ]
  },
  {
   "cell_type": "code",
   "execution_count": null,
   "id": "dc328d69-c986-4280-9970-0cbe01a62a56",
   "metadata": {
    "tags": []
   },
   "outputs": [],
   "source": [
    "d = np.load('GeSe_HAADF_highI.npy')\n",
    "plt.imshow(d,cmap='gray')\n",
    "plt.show()"
   ]
  },
  {
   "cell_type": "code",
   "execution_count": null,
   "id": "3a715e84-e4db-4781-96d7-a83f126f1b5a",
   "metadata": {},
   "outputs": [],
   "source": []
  }
 ],
 "metadata": {
  "kernelspec": {
   "display_name": "Python 3 (ipykernel)",
   "language": "python",
   "name": "python3"
  },
  "language_info": {
   "codemirror_mode": {
    "name": "ipython",
    "version": 3
   },
   "file_extension": ".py",
   "mimetype": "text/x-python",
   "name": "python",
   "nbconvert_exporter": "python",
   "pygments_lexer": "ipython3",
   "version": "3.10.13"
  }
 },
 "nbformat": 4,
 "nbformat_minor": 5
}
